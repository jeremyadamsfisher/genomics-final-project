{
 "cells": [
  {
   "cell_type": "code",
   "execution_count": null,
   "metadata": {},
   "outputs": [],
   "source": [
    "import random\n",
    "import numpy as np\n",
    "import pandas as pd\n",
    "import matplotlib.pyplot as plt\n",
    "import sklearn.metrics as metrics\n",
    "import torch\n",
    "import torch.nn as nn\n",
    "import torch.optim as optim\n",
    "from torch.utils.data import DataLoader\n",
    "from torch.nn.utils.rnn import pad_sequence, pack_padded_sequence\n",
    "\n",
    "from tqdm import tqdm, trange\n",
    "\n",
    "device = torch.device(\"cuda\" if torch.cuda.is_available() else \"cpu\"); device"
   ]
  },
  {
   "cell_type": "code",
   "execution_count": null,
   "metadata": {},
   "outputs": [],
   "source": [
    "ontology_and_seq_fp = \"../data/intermediary/drosophila_full_protein_ontology_and_seqs.csv\"\n",
    "df = pd.read_csv(ontology_and_seq__fp)\n",
    "relevant_subset = df[df.qualifier.isin([\"enables\", \"involved_in\"])].dropna()\n",
    "interesting_go_names = [name for (name, freq) in relevant_subset.go_name.value_counts().to_dict().items() if 1 < freq]  # <- probably need to change the filter step !!\n",
    "df = df[df.go_name.isin(interesting_go_names)]\n",
    "one_row_per_gene = pd.DataFrame(index=df.seq.unique(), columns=interesting_go_names).fillna(0)\n",
    "for _, row in df.iterrows():\n",
    "    one_row_per_gene.loc[row.seq, row.go_name] = 1\n",
    "one_row_per_gene = one_row_per_gene.reset_index().rename(columns={\"index\": \"seq\"})\n",
    "one_row_per_gene.head()"
   ]
  },
  {
   "cell_type": "code",
   "execution_count": null,
   "metadata": {},
   "outputs": [],
   "source": [
    "len(one_row_per_gene)"
   ]
  },
  {
   "cell_type": "code",
   "execution_count": null,
   "metadata": {},
   "outputs": [],
   "source": [
    "df_original = pd.read_csv(ontology_and_seq_fp)\n",
    "relevant_subset = df_original[df_original.qualifier.isin([\"enables\", \"involved_in\"])].dropna()\n",
    "\n",
    "interesting_go_names = [\n",
    "    name for (name, freq)\n",
    "    in relevant_subset.go_name.value_counts().to_dict().items()\n",
    "    if 100 < freq\n",
    "]  \n",
    "relevant_subset = relevant_subset[relevant_subset.go_name.isin(interesting_go_names)]\n",
    "\n",
    "df = pd.DataFrame(index=relevant_subset.seq.unique(), columns=interesting_go_names).fillna(0)\n",
    "for _, row in relevant_subset.iterrows():\n",
    "    df.loc[row.seq, row.go_name] = 1\n",
    "df[\"training\"] = df.assign(training=0).training.apply(lambda _: random.random() < 0.75)\n",
    "df = df.reset_index().rename(columns={\"index\": \"seqs\"})\n",
    "\n",
    "vocab = set()\n",
    "for seq in df.seqs:\n",
    "    vocab.update(seq)\n",
    "vocab.add(\"<pad>\")\n",
    "to_ix = {char: i for i, char in enumerate(vocab)}"
   ]
  },
  {
   "cell_type": "code",
   "execution_count": null,
   "metadata": {},
   "outputs": [],
   "source": [
    "N_EXAMPLES, _ = df.shape\n",
    "N_ONTOLOGICAL_CATEGORIES = len(interesting_go_names)\n",
    "VOCAB_SIZE = len(vocab)\n",
    "EMBEDDING_DIM = 8\n",
    "HIDDEN_DIM = 16\n",
    "BATCH_SIZE = 1"
   ]
  },
  {
   "cell_type": "code",
   "execution_count": null,
   "metadata": {},
   "outputs": [],
   "source": [
    "N_EXAMPLES, N_ONTOLOGICAL_CATEGORIES, N_EXAMPLES*N_ONTOLOGICAL_CATEGORIES"
   ]
  },
  {
   "cell_type": "code",
   "execution_count": null,
   "metadata": {},
   "outputs": [],
   "source": [
    "class SeqOntologyDataset(torch.utils.data.Dataset):\n",
    "    def __init__(self):\n",
    "        self.X = list(df.seqs)\n",
    "        self.y = df.loc[:, interesting_go_names]\n",
    "    def __len__(self):\n",
    "        return len(self.X)\n",
    "    def __getitem__(self, i):\n",
    "        seq = self.X[i]\n",
    "        seq_tensor = torch.tensor([to_ix[residue] for residue in seq])\n",
    "        \n",
    "        label = self.y.iloc[i,:].values.T\n",
    "        return seq_tensor, torch.tensor(label[np.newaxis,:], dtype=torch.double)\n",
    "\n",
    "ds_train, ds_test = torch.utils.data.random_split(\n",
    "    SeqOntologyDataset(),\n",
    "    lengths=[N_EXAMPLES-(N_EXAMPLES//4), N_EXAMPLES//4]\n",
    ")\n",
    "dl_args = {\"batch_size\": BATCH_SIZE, \"shuffle\": True}\n",
    "dl = {\"train\": torch.utils.data.DataLoader(ds_train, **dl_args),\n",
    "      \"test\": torch.utils.data.DataLoader(ds_test, **dl_args)}"
   ]
  },
  {
   "cell_type": "code",
   "execution_count": null,
   "metadata": {},
   "outputs": [],
   "source": [
    "\"\"\"useful: https://colab.research.google.com/github/pytorch/tutorials/blob/gh-pages/_downloads/sequence_models_tutorial.ipynb#scrollTo=CLqVNguZ1gOX\"\"\"\n",
    "\n",
    "class OntologyLSTM(nn.Module):\n",
    "    def __init__(self):\n",
    "        super(OntologyLSTM, self).__init__()\n",
    "        self.seq_embedding = nn.Embedding(VOCAB_SIZE, EMBEDDING_DIM).to(device)\n",
    "        self.lstm = nn.LSTM(EMBEDDING_DIM, HIDDEN_DIM).to(device)\n",
    "        self.fc = nn.Linear(HIDDEN_DIM, N_ONTOLOGICAL_CATEGORIES).to(device)\n",
    "        self.sigmoid = nn.Sigmoid().to(device)\n",
    "        \n",
    "    def reset(self, seq_len):\n",
    "        \"\"\"clear gradients from earlier examples\"\"\"\n",
    "        self.zero_grad()\n",
    "        self.h0 = torch.zeros(1, seq_len, HIDDEN_DIM).to(device)\n",
    "        self.c0 = torch.zeros(1, seq_len, HIDDEN_DIM).to(device)\n",
    "        \n",
    "    def forward(self, seq):\n",
    "        seq_embedded = self.seq_embedding(seq).view(len(seq), -1, EMBEDDING_DIM)\n",
    "        _, (self.h0, self.c0) = self.lstm(seq_embedded, (self.h0, self.c0))\n",
    "        logits = self.fc(self.c0[:,-1,np.newaxis,:])\n",
    "        likelihoods = self.sigmoid(logits)\n",
    "        return logits, likelihoods"
   ]
  },
  {
   "cell_type": "code",
   "execution_count": null,
   "metadata": {},
   "outputs": [],
   "source": [
    "clf = OntologyLSTM()\n",
    "criterion = torch.nn.BCEWithLogitsLoss()\n",
    "optimizer = optim.Adam(clf.parameters())\n",
    "\n",
    "losses = {\"train\": [], \"test\": []}\n",
    "f1s = []\n",
    "accuracies = []\n",
    "N_EPOCHS = 100\n",
    "for epoch in trange(N_EPOCHS, unit=\"epoch\"):\n",
    "    for phase in [\"train\", \"test\"]:\n",
    "        clf.train() if phase == \"train\" else clf.eval()\n",
    "        running_loss = 0\n",
    "        ontology_valid_truth = []\n",
    "        ontology_valid_pred = []\n",
    "        for seq, ontology in dl[phase]:\n",
    "            seq, ontology = seq.to(device), ontology.to(device)\n",
    "            _, seq_len = seq.shape\n",
    "            clf.reset(seq_len)\n",
    "            with torch.set_grad_enabled(phase == \"train\"):\n",
    "                ontology_logits, ontology_likelihoods = clf(seq)\n",
    "                loss = criterion(ontology_logits, ontology)\n",
    "                if phase == \"train\":\n",
    "                    loss.backward()\n",
    "                    optimizer.step()\n",
    "                if phase == \"test\":\n",
    "                    ontology_valid_truth.extend(ontology.squeeze())\n",
    "                    ontology_valid_pred.extend((ontology_likelihoods.squeeze()) > 0.5)\n",
    "            running_loss += loss.item() * BATCH_SIZE\n",
    "        losses[phase].append(running_loss/len(dl[phase]))\n",
    "        if phase == \"test\":\n",
    "            accuracies.append(metrics.accuracy_score(ontology_valid_truth, ontology_valid_pred))\n",
    "            f1s.append(metrics.fbeta_score(ontology_valid_truth, ontology_valid_pred, beta=1))"
   ]
  },
  {
   "cell_type": "code",
   "execution_count": null,
   "metadata": {},
   "outputs": [],
   "source": [
    "with plt.style.context(\"ggplot\"):\n",
    "    fig, (ax0, ax1, ax2) = plt.subplots(1, 3, figsize=(15,5))\n",
    "    ax0.plot(range(N_EPOCHS), losses[\"train\"], label=\"training\")\n",
    "    ax0.plot(range(N_EPOCHS), losses[\"test\"], label=\"testing\", c=\"black\")\n",
    "    ax0.set(xlabel=\"Epoch\", ylabel=\"Loss (Binary Cross Entropy)\")\n",
    "    ax1.plot(range(N_EPOCHS), f1s, c=\"black\")\n",
    "    ax1.set(xlabel=\"Epoch\", ylabel=\"F1\")\n",
    "    ax2.plot(range(N_EPOCHS), accuracies, c=\"black\")\n",
    "    ax2.set(xlabel=\"Epoch\", ylabel=\"Accuracy\")\n",
    "    fig.legend()\n",
    "    fig.suptitle(\"LSTM\")"
   ]
  },
  {
   "cell_type": "code",
   "execution_count": null,
   "metadata": {},
   "outputs": [],
   "source": []
  }
 ],
 "metadata": {
  "kernelspec": {
   "display_name": "fast.ai",
   "language": "python",
   "name": "fastai"
  },
  "language_info": {
   "codemirror_mode": {
    "name": "ipython",
    "version": 3
   },
   "file_extension": ".py",
   "mimetype": "text/x-python",
   "name": "python",
   "nbconvert_exporter": "python",
   "pygments_lexer": "ipython3",
   "version": "3.7.6"
  },
  "widgets": {
   "application/vnd.jupyter.widget-state+json": {
    "state": {},
    "version_major": 2,
    "version_minor": 0
   }
  }
 },
 "nbformat": 4,
 "nbformat_minor": 4
}
