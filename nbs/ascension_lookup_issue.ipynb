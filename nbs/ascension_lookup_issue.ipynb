{
 "cells": [
  {
   "cell_type": "code",
   "execution_count": 1,
   "metadata": {},
   "outputs": [],
   "source": [
    "from Bio import SeqIO\n",
    "import pandas as pd"
   ]
  },
  {
   "cell_type": "code",
   "execution_count": 7,
   "metadata": {},
   "outputs": [],
   "source": [
    "ontology_fp = \"../data/raw/fly_shim/QuickGO-annotations-1587408787815-20200420.tsv\"\n",
    "seq_fp = \"../data/raw/fly_shim/uniprot-yourlist%3AM20200422A94466D2655679D1FD8953E075198DA86FF07ED.fasta\"\n",
    "ontology_with_seqs_fp = \"../data/intermediary/drosophila_full_protein_ontology_and_seqs.csv\""
   ]
  },
  {
   "cell_type": "code",
   "execution_count": 8,
   "metadata": {},
   "outputs": [],
   "source": [
    "df = pd.read_csv(ontology_fp, delimiter=\"\\t\")\n",
    "df.columns = df.columns.map(lambda s: s.replace(\" \", \"_\").lower())\n",
    "df = df[[\"gene_product_id\", \"symbol\", \"qualifier\", \"go_name\"]]\n",
    "genes = df[\"gene_product_id\"].unique()"
   ]
  },
  {
   "cell_type": "code",
   "execution_count": 9,
   "metadata": {},
   "outputs": [],
   "source": [
    "records = SeqIO.parse(seq_fp, \"fasta\")\n",
    "gene2seq = {}\n",
    "for record in records:\n",
    "    _, gene, _ = record.name.split(\"|\")\n",
    "    gene2seq[gene] = str(record.seq)"
   ]
  },
  {
   "cell_type": "code",
   "execution_count": 10,
   "metadata": {},
   "outputs": [],
   "source": [
    "df[\"seq\"] = df.gene_product_id.map(gene2seq)\n",
    "df.dropna().to_csv(ontology_with_seqs_fp, index=False)"
   ]
  },
  {
   "cell_type": "code",
   "execution_count": 12,
   "metadata": {},
   "outputs": [
    {
     "data": {
      "text/html": [
       "<div>\n",
       "<style scoped>\n",
       "    .dataframe tbody tr th:only-of-type {\n",
       "        vertical-align: middle;\n",
       "    }\n",
       "\n",
       "    .dataframe tbody tr th {\n",
       "        vertical-align: top;\n",
       "    }\n",
       "\n",
       "    .dataframe thead th {\n",
       "        text-align: right;\n",
       "    }\n",
       "</style>\n",
       "<table border=\"1\" class=\"dataframe\">\n",
       "  <thead>\n",
       "    <tr style=\"text-align: right;\">\n",
       "      <th></th>\n",
       "      <th>index</th>\n",
       "      <th>gene_product_id</th>\n",
       "      <th>symbol</th>\n",
       "      <th>qualifier</th>\n",
       "      <th>go_name</th>\n",
       "      <th>seq</th>\n",
       "    </tr>\n",
       "  </thead>\n",
       "  <tbody>\n",
       "    <tr>\n",
       "      <th>0</th>\n",
       "      <td>0</td>\n",
       "      <td>A0A021WW32</td>\n",
       "      <td>vtd</td>\n",
       "      <td>involved_in</td>\n",
       "      <td>sister chromatid cohesion</td>\n",
       "      <td>MFYEHIILAKKGPLARIWLAAHWDKKITKAHVFETNIEKSVEGILQ...</td>\n",
       "    </tr>\n",
       "    <tr>\n",
       "      <th>1</th>\n",
       "      <td>1</td>\n",
       "      <td>A0A021WW32</td>\n",
       "      <td>vtd</td>\n",
       "      <td>involved_in</td>\n",
       "      <td>double-strand break repair</td>\n",
       "      <td>MFYEHIILAKKGPLARIWLAAHWDKKITKAHVFETNIEKSVEGILQ...</td>\n",
       "    </tr>\n",
       "    <tr>\n",
       "      <th>2</th>\n",
       "      <td>2</td>\n",
       "      <td>A0A021WW32</td>\n",
       "      <td>vtd</td>\n",
       "      <td>involved_in</td>\n",
       "      <td>sister chromatid cohesion</td>\n",
       "      <td>MFYEHIILAKKGPLARIWLAAHWDKKITKAHVFETNIEKSVEGILQ...</td>\n",
       "    </tr>\n",
       "    <tr>\n",
       "      <th>3</th>\n",
       "      <td>3</td>\n",
       "      <td>A0A021WW32</td>\n",
       "      <td>vtd</td>\n",
       "      <td>involved_in</td>\n",
       "      <td>mitotic sister chromatid cohesion</td>\n",
       "      <td>MFYEHIILAKKGPLARIWLAAHWDKKITKAHVFETNIEKSVEGILQ...</td>\n",
       "    </tr>\n",
       "    <tr>\n",
       "      <th>4</th>\n",
       "      <td>4</td>\n",
       "      <td>A0A021WW32</td>\n",
       "      <td>vtd</td>\n",
       "      <td>involved_in</td>\n",
       "      <td>mitotic sister chromatid cohesion</td>\n",
       "      <td>MFYEHIILAKKGPLARIWLAAHWDKKITKAHVFETNIEKSVEGILQ...</td>\n",
       "    </tr>\n",
       "    <tr>\n",
       "      <th>...</th>\n",
       "      <td>...</td>\n",
       "      <td>...</td>\n",
       "      <td>...</td>\n",
       "      <td>...</td>\n",
       "      <td>...</td>\n",
       "      <td>...</td>\n",
       "    </tr>\n",
       "    <tr>\n",
       "      <th>71319</th>\n",
       "      <td>71353</td>\n",
       "      <td>Q86DT8</td>\n",
       "      <td>STUB1</td>\n",
       "      <td>involved_in</td>\n",
       "      <td>protein polyubiquitination</td>\n",
       "      <td>LKRWELCCQDSRRALDIDGNLLKGHFFLGQGLMEIDNFDEAIKHLQ...</td>\n",
       "    </tr>\n",
       "    <tr>\n",
       "      <th>71320</th>\n",
       "      <td>71354</td>\n",
       "      <td>Q86DT8</td>\n",
       "      <td>STUB1</td>\n",
       "      <td>involved_in</td>\n",
       "      <td>protein quality control for misfolded or incom...</td>\n",
       "      <td>LKRWELCCQDSRRALDIDGNLLKGHFFLGQGLMEIDNFDEAIKHLQ...</td>\n",
       "    </tr>\n",
       "    <tr>\n",
       "      <th>71321</th>\n",
       "      <td>71355</td>\n",
       "      <td>Q86DT8</td>\n",
       "      <td>STUB1</td>\n",
       "      <td>involved_in</td>\n",
       "      <td>proteasome-mediated ubiquitin-dependent protei...</td>\n",
       "      <td>LKRWELCCQDSRRALDIDGNLLKGHFFLGQGLMEIDNFDEAIKHLQ...</td>\n",
       "    </tr>\n",
       "    <tr>\n",
       "      <th>71322</th>\n",
       "      <td>71356</td>\n",
       "      <td>Q86DT8</td>\n",
       "      <td>STUB1</td>\n",
       "      <td>enables</td>\n",
       "      <td>ubiquitin-protein transferase activity</td>\n",
       "      <td>LKRWELCCQDSRRALDIDGNLLKGHFFLGQGLMEIDNFDEAIKHLQ...</td>\n",
       "    </tr>\n",
       "    <tr>\n",
       "      <th>71323</th>\n",
       "      <td>71357</td>\n",
       "      <td>Q86DT8</td>\n",
       "      <td>STUB1</td>\n",
       "      <td>involved_in</td>\n",
       "      <td>protein ubiquitination</td>\n",
       "      <td>LKRWELCCQDSRRALDIDGNLLKGHFFLGQGLMEIDNFDEAIKHLQ...</td>\n",
       "    </tr>\n",
       "  </tbody>\n",
       "</table>\n",
       "<p>71324 rows × 6 columns</p>\n",
       "</div>"
      ],
      "text/plain": [
       "       index gene_product_id symbol    qualifier  \\\n",
       "0          0      A0A021WW32    vtd  involved_in   \n",
       "1          1      A0A021WW32    vtd  involved_in   \n",
       "2          2      A0A021WW32    vtd  involved_in   \n",
       "3          3      A0A021WW32    vtd  involved_in   \n",
       "4          4      A0A021WW32    vtd  involved_in   \n",
       "...      ...             ...    ...          ...   \n",
       "71319  71353          Q86DT8  STUB1  involved_in   \n",
       "71320  71354          Q86DT8  STUB1  involved_in   \n",
       "71321  71355          Q86DT8  STUB1  involved_in   \n",
       "71322  71356          Q86DT8  STUB1      enables   \n",
       "71323  71357          Q86DT8  STUB1  involved_in   \n",
       "\n",
       "                                                 go_name  \\\n",
       "0                              sister chromatid cohesion   \n",
       "1                             double-strand break repair   \n",
       "2                              sister chromatid cohesion   \n",
       "3                      mitotic sister chromatid cohesion   \n",
       "4                      mitotic sister chromatid cohesion   \n",
       "...                                                  ...   \n",
       "71319                         protein polyubiquitination   \n",
       "71320  protein quality control for misfolded or incom...   \n",
       "71321  proteasome-mediated ubiquitin-dependent protei...   \n",
       "71322             ubiquitin-protein transferase activity   \n",
       "71323                             protein ubiquitination   \n",
       "\n",
       "                                                     seq  \n",
       "0      MFYEHIILAKKGPLARIWLAAHWDKKITKAHVFETNIEKSVEGILQ...  \n",
       "1      MFYEHIILAKKGPLARIWLAAHWDKKITKAHVFETNIEKSVEGILQ...  \n",
       "2      MFYEHIILAKKGPLARIWLAAHWDKKITKAHVFETNIEKSVEGILQ...  \n",
       "3      MFYEHIILAKKGPLARIWLAAHWDKKITKAHVFETNIEKSVEGILQ...  \n",
       "4      MFYEHIILAKKGPLARIWLAAHWDKKITKAHVFETNIEKSVEGILQ...  \n",
       "...                                                  ...  \n",
       "71319  LKRWELCCQDSRRALDIDGNLLKGHFFLGQGLMEIDNFDEAIKHLQ...  \n",
       "71320  LKRWELCCQDSRRALDIDGNLLKGHFFLGQGLMEIDNFDEAIKHLQ...  \n",
       "71321  LKRWELCCQDSRRALDIDGNLLKGHFFLGQGLMEIDNFDEAIKHLQ...  \n",
       "71322  LKRWELCCQDSRRALDIDGNLLKGHFFLGQGLMEIDNFDEAIKHLQ...  \n",
       "71323  LKRWELCCQDSRRALDIDGNLLKGHFFLGQGLMEIDNFDEAIKHLQ...  \n",
       "\n",
       "[71324 rows x 6 columns]"
      ]
     },
     "execution_count": 12,
     "metadata": {},
     "output_type": "execute_result"
    }
   ],
   "source": [
    "df.dropna().reset_index()"
   ]
  },
  {
   "cell_type": "code",
   "execution_count": 16,
   "metadata": {},
   "outputs": [
    {
     "data": {
      "text/plain": [
       "array([5195, 1000,  937,  886,  828,  750,  733,  685,  570,  555,  514,\n",
       "        492,  482,  474,  460,  453,  435,  385,  375,  350,  316,  297,\n",
       "        296,  286,  275])"
      ]
     },
     "execution_count": 16,
     "metadata": {},
     "output_type": "execute_result"
    }
   ],
   "source": [
    "df.go_name.value_counts().values[:25]"
   ]
  },
  {
   "cell_type": "code",
   "execution_count": null,
   "metadata": {},
   "outputs": [],
   "source": []
  }
 ],
 "metadata": {
  "kernelspec": {
   "display_name": "Bio",
   "language": "python",
   "name": "bio"
  },
  "language_info": {
   "codemirror_mode": {
    "name": "ipython",
    "version": 3
   },
   "file_extension": ".py",
   "mimetype": "text/x-python",
   "name": "python",
   "nbconvert_exporter": "python",
   "pygments_lexer": "ipython3",
   "version": "3.8.1"
  },
  "widgets": {
   "application/vnd.jupyter.widget-state+json": {
    "state": {},
    "version_major": 2,
    "version_minor": 0
   }
  }
 },
 "nbformat": 4,
 "nbformat_minor": 4
}
