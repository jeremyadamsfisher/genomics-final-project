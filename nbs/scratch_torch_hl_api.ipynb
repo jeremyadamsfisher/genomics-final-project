{
 "cells": [
  {
   "cell_type": "code",
   "execution_count": null,
   "metadata": {},
   "outputs": [],
   "source": [
    "import random\n",
    "import numpy as np\n",
    "import pandas as pd\n",
    "import torch\n",
    "import torch.nn as nn\n",
    "import torch.optim as optim\n",
    "from torch.utils.data import DataLoader\n",
    "from torch.nn.utils.rnn import pad_sequence, pack_padded_sequence\n",
    "device = torch.device(\"cuda\" if torch.cuda.is_available() else \"cpu\"); device"
   ]
  },
  {
   "cell_type": "code",
   "execution_count": null,
   "metadata": {},
   "outputs": [],
   "source": [
    "# device = \"cpu\""
   ]
  },
  {
   "cell_type": "code",
   "execution_count": null,
   "metadata": {},
   "outputs": [],
   "source": [
    "ontology_and_seq__fp = \"../data/intermediary/drosophila_protein_ontology_and_seqs.csv\"\n",
    "df = pd.read_csv(ontology_and_seq__fp)\n",
    "relevant_subset = df[df.qualifier.isin([\"enables\", \"involved_in\"])].dropna()\n",
    "interesting_go_names = [name for (name, freq) in relevant_subset.go_name.value_counts().to_dict().items() if 1 < freq]  # <- probably need to change the filter step !!\n",
    "df = df[df.go_name.isin(interesting_go_names)]\n",
    "one_row_per_gene = pd.DataFrame(index=df.seq.unique(), columns=interesting_go_names).fillna(0)\n",
    "for _, row in df.iterrows():\n",
    "    one_row_per_gene.loc[row.seq, row.go_name] = 1\n",
    "one_row_per_gene = one_row_per_gene.reset_index().rename(columns={\"index\": \"seq\"})\n",
    "one_row_per_gene.head()"
   ]
  },
  {
   "cell_type": "code",
   "execution_count": null,
   "metadata": {},
   "outputs": [],
   "source": [
    "df_original = pd.read_csv(ontology_and_seq__fp)\n",
    "relevant_subset = df_original[df_original.qualifier.isin([\"enables\", \"involved_in\"])].dropna()\n",
    "\n",
    "interesting_go_names = [\n",
    "    name for (name, freq)\n",
    "    in relevant_subset.go_name.value_counts().to_dict().items()\n",
    "    if 7 < freq  # !! probably need to change the filter step !!\n",
    "]  \n",
    "relevant_subset = relevant_subset[relevant_subset.go_name.isin(interesting_go_names)]\n",
    "\n",
    "df = pd.DataFrame(index=relevant_subset.seq.unique(), columns=interesting_go_names).fillna(0)\n",
    "for _, row in relevant_subset.iterrows():\n",
    "    df.loc[row.seq, row.go_name] = 1\n",
    "df[\"training\"] = df.assign(training=0).training.apply(lambda _: random.random() < 0.75)\n",
    "df = df.reset_index().rename(columns={\"index\": \"seqs\"})\n",
    "\n",
    "vocab = set()\n",
    "for seq in df.seqs:\n",
    "    vocab.update(seq)\n",
    "vocab.add(\"<pad>\")\n",
    "to_ix = {char: i for i, char in enumerate(vocab)}"
   ]
  },
  {
   "cell_type": "code",
   "execution_count": null,
   "metadata": {},
   "outputs": [],
   "source": [
    "N_EXAMPLES, _ = df.shape\n",
    "N_ONTOLOGICAL_CATEGORIES = len(interesting_go_names)\n",
    "VOCAB_SIZE = len(vocab)\n",
    "EMBEDDING_DIM = 6\n",
    "HIDDEN_DIM = 6"
   ]
  },
  {
   "cell_type": "code",
   "execution_count": null,
   "metadata": {},
   "outputs": [],
   "source": [
    "N_EXAMPLES/6"
   ]
  },
  {
   "cell_type": "code",
   "execution_count": null,
   "metadata": {},
   "outputs": [],
   "source": [
    "class SeqOntologyDataset(torch.utils.data.Dataset):\n",
    "    def __init__(self):\n",
    "        self.X = list(df.seqs)\n",
    "        self.y = df.loc[:, interesting_go_names]\n",
    "    def __len__(self):\n",
    "        return len(self.X)\n",
    "    def __getitem__(self, i):\n",
    "        seq = self.X[i]\n",
    "        seq_tensor = torch.tensor([to_ix[residue] for residue in seq])\n",
    "        label = self.y.iloc[i,:].values\n",
    "        return seq_tensor, label\n",
    "\n",
    "ds_train, ds_test = torch.utils.data.random_split(\n",
    "    SeqOntologyDataset(),\n",
    "    lengths=[N_EXAMPLES-(N_EXAMPLES//4),N_EXAMPLES//4]\n",
    ")\n",
    "dl_args = {\"batch_size\": 1, \"shuffle\": True}\n",
    "dl = {\"train\": torch.utils.data.DataLoader(ds_train, **dl_args),\n",
    "      \"test\": torch.utils.data.DataLoader(ds_test, **dl_args)}"
   ]
  },
  {
   "cell_type": "code",
   "execution_count": null,
   "metadata": {},
   "outputs": [],
   "source": [
    "\"\"\"https://colab.research.google.com/github/pytorch/tutorials/blob/gh-pages/_downloads/sequence_models_tutorial.ipynb#scrollTo=CLqVNguZ1gOX\"\"\"\n",
    "\n",
    "class OntologyLSTM(nn.Module):\n",
    "    def __init__(self):\n",
    "        super(OntologyLSTM, self).__init__()\n",
    "        self.seq_embedding = nn.Embedding(VOCAB_SIZE, EMBEDDING_DIM)\n",
    "        self.lstm = nn.LSTM(EMBEDDING_DIM, HIDDEN_DIM)\n",
    "        self.linear = nn.Linear(HIDDEN_DIM, N_ONTOLOGICAL_CATEGORIES)\n",
    "        \n",
    "    def reset(self):\n",
    "        \"\"\"clear gradients from earlier examples\"\"\"\n",
    "        self.zero_grad()\n",
    "        self.hidden = torch.zeros(1, 1, HIDDEN_DIM), \\\n",
    "                      torch.zeros(1, 1, HIDDEN_DIM)\n",
    "        \n",
    "    def forward(self, X):\n",
    "        seq_len = len(X) \n",
    "        X = self.seq_embedding(X)\n",
    "        X, self.hidden = self.lstm(X.view(seq_len, 1, -1), self.hidden)\n",
    "        logits = self.linear(X)[-1,:,:]  # we only care about the final set of activations\n",
    "        return logits"
   ]
  },
  {
   "cell_type": "code",
   "execution_count": null,
   "metadata": {},
   "outputs": [],
   "source": [
    "a, b = next(iter(dl[\"train\"]))\n",
    "a.shape"
   ]
  },
  {
   "cell_type": "code",
   "execution_count": null,
   "metadata": {},
   "outputs": [],
   "source": [
    "b.shape"
   ]
  },
  {
   "cell_type": "code",
   "execution_count": null,
   "metadata": {},
   "outputs": [],
   "source": [
    "clf = OntologyLSTM()\n",
    "criterion = torch.nn.BCEWithLogitsLoss()\n",
    "optimizer = optim.Adam(clf.parameters())\n",
    "\n",
    "for seq, ontology in dl[\"train\"]:\n",
    "    clf.reset()\n",
    "    ontology_pred = clf(seq.T)\n",
    "    loss = criterion(ontology_pred, ontology)\n",
    "    loss.backwards()\n",
    "    optimizer.step()"
   ]
  },
  {
   "cell_type": "code",
   "execution_count": null,
   "metadata": {},
   "outputs": [],
   "source": []
  }
 ],
 "metadata": {
  "kernelspec": {
   "display_name": "Torch",
   "language": "python",
   "name": "torch"
  },
  "language_info": {
   "codemirror_mode": {
    "name": "ipython",
    "version": 3
   },
   "file_extension": ".py",
   "mimetype": "text/x-python",
   "name": "python",
   "nbconvert_exporter": "python",
   "pygments_lexer": "ipython3",
   "version": "3.8.2"
  },
  "widgets": {
   "application/vnd.jupyter.widget-state+json": {
    "state": {},
    "version_major": 2,
    "version_minor": 0
   }
  }
 },
 "nbformat": 4,
 "nbformat_minor": 4
}
