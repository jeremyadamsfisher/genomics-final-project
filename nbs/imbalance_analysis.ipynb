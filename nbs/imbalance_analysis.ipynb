{
 "cells": [
  {
   "cell_type": "code",
   "execution_count": null,
   "metadata": {},
   "outputs": [],
   "source": [
    "import pandas as pd\n",
    "import matplotlib.pyplot as plt\n",
    "\n",
    "ONTOLOGY_SEQ_DATASET_FP = \"../data/intermediary/drosophila_full_protein_ontology_and_seqs.csv\"\n",
    "\n",
    "# load sequence and ontology data into memory\n",
    "df_original = pd.read_csv(ONTOLOGY_SEQ_DATASET_FP)\n",
    "relevant_subset = df_original[df_original.qualifier.isin([\"enables\", \"involved_in\"])].dropna()\n",
    "df = pd.DataFrame(index=relevant_subset.seq.unique(), columns=relevant_subset.go_name.unique()).fillna(0)\n",
    "for _, row in relevant_subset.iterrows():\n",
    "    df.loc[row.seq, row.go_name] = 1"
   ]
  },
  {
   "cell_type": "code",
   "execution_count": null,
   "metadata": {},
   "outputs": [],
   "source": [
    "def det_class_balance(df_):\n",
    "    rows, cols = df_.shape\n",
    "    class_balance = df_.sum().sum() / (rows * cols)\n",
    "    return class_balance"
   ]
  },
  {
   "cell_type": "code",
   "execution_count": null,
   "metadata": {},
   "outputs": [],
   "source": [
    "thresh2balance = {}\n",
    "n_terms2balance = []\n",
    "nterms2thresh = []\n",
    "for thresh in range(100,500,10):\n",
    "    interesting_go_names = [\n",
    "        name for (name, freq)\n",
    "        in relevant_subset.go_name.value_counts().to_dict().items()\n",
    "        if thresh < freq\n",
    "    ]\n",
    "    bal = det_class_balance(df.loc[:,interesting_go_names])\n",
    "    thresh2balance[thresh] = (bal, len(interesting_go_names))\n",
    "    n_terms2balance.append((len(interesting_go_names), bal))\n",
    "    nterms2thresh.append((len(interesting_go_names), thresh))"
   ]
  },
  {
   "cell_type": "code",
   "execution_count": null,
   "metadata": {},
   "outputs": [],
   "source": [
    "fig, (ax1, ax2) = plt.subplots(1,2,figsize=(10,5))\n",
    "ax1.plot(*zip(*n_terms2balance))\n",
    "ax1.set(xlabel=\"number of terms\", ylabel=\"class balance\")\n",
    "y, x = zip(*nterms2thresh)\n",
    "ax2.hist(x,y)\n",
    "ax2.set(ylabel=\"number of terms\", xlabel=\"threshold\")"
   ]
  },
  {
   "cell_type": "code",
   "execution_count": null,
   "metadata": {},
   "outputs": [],
   "source": []
  }
 ],
 "metadata": {
  "kernelspec": {
   "display_name": "Data Cruncher",
   "language": "python",
   "name": "crunch"
  },
  "language_info": {
   "codemirror_mode": {
    "name": "ipython",
    "version": 3
   },
   "file_extension": ".py",
   "mimetype": "text/x-python",
   "name": "python",
   "nbconvert_exporter": "python",
   "pygments_lexer": "ipython3",
   "version": "3.7.6"
  },
  "widgets": {
   "application/vnd.jupyter.widget-state+json": {
    "state": {},
    "version_major": 2,
    "version_minor": 0
   }
  }
 },
 "nbformat": 4,
 "nbformat_minor": 4
}
