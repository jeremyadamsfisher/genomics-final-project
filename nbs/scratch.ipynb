{
 "cells": [
  {
   "cell_type": "code",
   "execution_count": 2,
   "metadata": {},
   "outputs": [],
   "source": [
    "import time\n",
    "import pandas as pd\n",
    "from Bio import Entrez, SeqIO\n",
    "Entrez.email = \"jeremyf@cmu.edu\""
   ]
  },
  {
   "cell_type": "code",
   "execution_count": 7,
   "metadata": {},
   "outputs": [],
   "source": [
    "fp = \"../data/raw/zebrafish_protein_ontology.tsv\""
   ]
  },
  {
   "cell_type": "code",
   "execution_count": 9,
   "metadata": {},
   "outputs": [],
   "source": [
    "df = pd.read_csv(fp, delimiter=\"\\t\")\n",
    "df.columns = df.columns.map(lambda s: s.replace(\" \", \"_\").lower())\n",
    "df = df[[\"gene_product_id\", \"symbol\", \"qualifier\", \"go_name\"]]"
   ]
  },
  {
   "cell_type": "code",
   "execution_count": 10,
   "metadata": {},
   "outputs": [
    {
     "name": "stdout",
     "output_type": "stream",
     "text": [
      "loading 1/214\n",
      "loading 11/214\n",
      "loading 21/214\n",
      "loading 31/214\n",
      "loading 41/214\n",
      "loading 51/214\n",
      "loading 61/214\n",
      "loading 71/214\n",
      "loading 81/214\n",
      "loading 91/214\n",
      "loading 101/214\n",
      "loading 111/214\n",
      "loading 121/214\n",
      "loading 131/214\n",
      "loading 141/214\n",
      "loading 151/214\n",
      "loading 161/214\n",
      "loading 171/214\n",
      "loading 181/214\n",
      "loading 191/214\n",
      "loading 201/214\n",
      "loading 211/214\n"
     ]
    }
   ],
   "source": [
    "gene2seq = {}\n",
    "genes = df[\"gene_product_id\"].unique()\n",
    "for i, gene in enumerate(genes):\n",
    "    if i % 10 == 0:\n",
    "        print(f\"loading {i+1}/{len(genes)}\")\n",
    "    try:\n",
    "        with Entrez.efetch(db=\"protein\", id=gene, rettype=\"fasta\", retmax=1) as query:\n",
    "            record = next(SeqIO.parse(query, \"fasta\"))\n",
    "            gene2seq[gene] = str(record.seq)\n",
    "    except:  # HTTPError -- I know this is terrible practice 🤫\n",
    "        gene2seq[gene] = None\n",
    "    finally:\n",
    "        time.sleep(1)\n",
    "df[\"seq\"] = df[\"gene_product_id\"].map(gene2seq)"
   ]
  },
  {
   "cell_type": "code",
   "execution_count": 24,
   "metadata": {},
   "outputs": [
    {
     "data": {
      "text/plain": [
       "['ATP binding',\n",
       " 'nucleotide binding',\n",
       " 'catalytic activity',\n",
       " 'ATPase-coupled transmembrane transporter activity',\n",
       " 'biosynthetic process',\n",
       " 'transmembrane transport',\n",
       " 'asparagine biosynthetic process',\n",
       " 'ATPase activity']"
      ]
     },
     "execution_count": 24,
     "metadata": {},
     "output_type": "execute_result"
    }
   ],
   "source": [
    "relevant_subset = df[df.qualifier.isin([\"enables\", \"involved_in\"])].dropna()\n",
    "it = relevant_subset.go_name.value_counts().to_dict().items()\n",
    "interesting_go_names = [name for (name, freq) in it if 1 < freq]\n",
    "interesting_go_names"
   ]
  },
  {
   "cell_type": "code",
   "execution_count": 59,
   "metadata": {},
   "outputs": [],
   "source": [
    "_ = df[df.go_name.isin(interesting_go_names)].dropna()[[\"seq\", \"go_name\"]]\n",
    "one_hot = pd.DataFrame(index=_.seq.unique(), columns=interesting_go_names).fillna(0)\n",
    "for idx, row in _.iterrows():\n",
    "    one_hot.loc[row.seq, row.go_name] = 1"
   ]
  },
  {
   "cell_type": "code",
   "execution_count": 60,
   "metadata": {},
   "outputs": [
    {
     "data": {
      "text/html": [
       "<div>\n",
       "<style scoped>\n",
       "    .dataframe tbody tr th:only-of-type {\n",
       "        vertical-align: middle;\n",
       "    }\n",
       "\n",
       "    .dataframe tbody tr th {\n",
       "        vertical-align: top;\n",
       "    }\n",
       "\n",
       "    .dataframe thead th {\n",
       "        text-align: right;\n",
       "    }\n",
       "</style>\n",
       "<table border=\"1\" class=\"dataframe\">\n",
       "  <thead>\n",
       "    <tr style=\"text-align: right;\">\n",
       "      <th></th>\n",
       "      <th>ATP binding</th>\n",
       "      <th>nucleotide binding</th>\n",
       "      <th>catalytic activity</th>\n",
       "      <th>ATPase-coupled transmembrane transporter activity</th>\n",
       "      <th>biosynthetic process</th>\n",
       "      <th>transmembrane transport</th>\n",
       "      <th>asparagine biosynthetic process</th>\n",
       "      <th>ATPase activity</th>\n",
       "    </tr>\n",
       "  </thead>\n",
       "  <tbody>\n",
       "    <tr>\n",
       "      <th>MDFFVRLARETGDRKREFLELGRKAGRFPAASTSNGEISIWCSNDYLGMGQHPDVLDAMKRSVDEYGGGSGGSRNTGGTNHFHVALEREPAEPHGKEDAVLFTSGYSANEGSLSVLAGAVDDCQVFSDSANHASIIDGLRHSGARKHVFRHKDGRHLEELLAAADRDKPKFIALESVHSMRGDIALLAEIAGLAKRYGAVTFLDEVHAVGMYGPGGAGIAARDGVHCEFTVVMGTLAKAFGMTGGYVAGPAVLMDAVRARARSFVFTTALPPAVAAGALAAVRHLRGSDEERRRPAENARLTHGLLRERDIPVLSDRSPIVPVLVGEDRMCKRMSALPLERHGAYVQAIDAPSVPAGEEILRIAPSAVHETEEIHRFVDALDGIWSELGAARRV</th>\n",
       "      <td>0</td>\n",
       "      <td>0</td>\n",
       "      <td>1</td>\n",
       "      <td>0</td>\n",
       "      <td>1</td>\n",
       "      <td>0</td>\n",
       "      <td>0</td>\n",
       "      <td>0</td>\n",
       "    </tr>\n",
       "    <tr>\n",
       "      <th>MLRGSARTYWTLTGLWVLLRAGTLVVGLLFQRLFDALGAGGGVWLIIALVAAIEAGRLFLQFGVMINRLEPRVQYGTTARLRHALLGSALRGSEVTARTSPGESLRTVGEDVDETGFFVAWAPTNLAHWLFVAASVTVMMRIDAVVTGALLALLVLLTLVTALAHSRFLRHRRATRAASGEVAGALREMVGAVGAVQAAAAEPQVAAHVAGLNGARAEAAVREELYAVVQRTVIGNPAPIGVGVVLLLVAGRMDEGTFSVGDLALFAFYLQILTEALGSIGMLSVRLQRVSVALGRITNNLGCRLRRSLERASPPIASDAPGGTGEGAAAPDAGPEPAPPLRELAVRGLTARHPGAGHGIEDVDLVVERHTVTVVTGRVGSGKSTLVRAVLGLLPHERGTVLWNGEPIADPASFLVAPRCGYTPQVPCLFSGTVRENVLLGRDGAAFDEAVRLAVAEPDLAAMQDGPDTVVGPRGLRLSGGQIQRVAIARMLVGDPELVVLDDVSSALDPETEHLLWERLLDGTRTVLAVSHRPALLRAADRVVVLEGGRVEASGTFEEVMAVSAEMGRIWTGAGPGGGDAGPAPQSPPAG</th>\n",
       "      <td>1</td>\n",
       "      <td>1</td>\n",
       "      <td>0</td>\n",
       "      <td>1</td>\n",
       "      <td>0</td>\n",
       "      <td>1</td>\n",
       "      <td>0</td>\n",
       "      <td>1</td>\n",
       "    </tr>\n",
       "    <tr>\n",
       "      <th>MRGERTAVALLALLVPAGMGLQLVAPYLLRGFIDGALSGDSRKTLLDLAAWSLAAAVGTLVVTAGTEALSSRVAWRSTNRLRADLVEHCLSRPPGFYRKHPPGELVERMDGDVTRLAAVMSTLLLELLAQALLIVGILVALFRLEWRLALVVAPFAAGTLLLLRTLVGRAMPFVTARQRVAADLQGFLEERLAAAEDLRVNGASRYTLRELGDRQDDLYRKARDAARASVRWPATVQGLSAVSVVLALAVSAWLHARGQLSTGTAFASLSYAMLLRRPLLAVTTRFRELEDAAASAQRLRDLLGHGTAAPRTGRGTLPAGLPGVRFDGVSFGYEPDEPVLRDVSFTLRPGERLGVVGRTGSGKSTVVRLLFGLHHPGAGSVSAGGLDLTEIDPRALRSRVALVTQEVHVFHASLRDNLTFFDRSVPDDRLRAALGEAGLGPWLRTLPDGLDTPLGAGARGMSAGEEQQLALARVFLRDPGLVLMDEPTARLDPYSERLLMPALERLLEGRTAVVVEHRPHLLRNVDRILVLEEGKVAEEGERRVLAADPGSRFHALLRTAGATR</th>\n",
       "      <td>1</td>\n",
       "      <td>1</td>\n",
       "      <td>0</td>\n",
       "      <td>1</td>\n",
       "      <td>0</td>\n",
       "      <td>1</td>\n",
       "      <td>0</td>\n",
       "      <td>1</td>\n",
       "    </tr>\n",
       "    <tr>\n",
       "      <th>MSSDTHGTDLADGDVLVTGAAGFIGSHLVTELRNSGRNVVAVDRRPLPDDLESTSPPFTGSLREIRGDLNSLNLVDCLKNISTVFHLAALPGVRPSWTQFPEYLRCNVLATQRLMEACVQAGVERVVVASSSSVYGGADGVMSEDDLPRPLSPYGVTKLAAERLALAFAARGDAELSVGALRFFTVYGPGQRPDMFISRLIRATLRGEPVEIYGDGTQLRDFTHVSDVVRALMLTASVRDRGSAVLNIGTGSAVSVNEVVSMTAELTGLRPCTAYGSARIGDVRSTTADVRQAQSVLGFTARTGLREGLATQIEWTRRSLSGAEQDTVPVGGSSVSVPRL</th>\n",
       "      <td>0</td>\n",
       "      <td>0</td>\n",
       "      <td>1</td>\n",
       "      <td>0</td>\n",
       "      <td>0</td>\n",
       "      <td>0</td>\n",
       "      <td>0</td>\n",
       "      <td>0</td>\n",
       "    </tr>\n",
       "    <tr>\n",
       "      <th>MCGFVGFSDAGAGQEDARVTAERMLAAVAHRGPDGSDWCHHRGVTLAHCALTFTDPDHGAQPFVSASGATAVVFNGELYNHAVLGDGALPCAPGGDTEVPGGTLRVAGHADARPAAGHVRLRAAGRPHRHHGAGRDRWGRAPLLTPACETDIAFASELTSLLRHPAAPRTPEVRALADYLVLQAFCAPASAVSGVCKVRPGSYVTHRHGALDETEFWRPRLTPDRGAGRGPGRREAARRFEELFRAAVARRMTSTDRRLGVLLSGGLDSSAVAAVAQQLLPGRPVPTFSAGFADPDFDESDHARAVARHLGTEHHVVRIGGADLAGVVESELAVADEPLADPSLLPTRLVCRAAREHVRGVLTGDGADELLLGYRYFQAERAIELLLRVLPAPRLEALVRLLVRRLPARSGNLPVTHALGLLAKGLRAAPEHRFYLSTAPFGPGELPRLLTPEAGAELTGHDPFTEVSRLLRGQPGLTGVQRSQLAVVTHFLRDVILTKTDRGGMRSSLELRSPFLDLDLVEYGNSLPTGLKLHRFTGKYLLRQVAAGWLPPSVVQRTKLGFRAPVAALLRGELRPLLLDTLSPSSLRRGGLFDTGAVRLLIDDHLGGRRDTSRKLWALLVYQLWFESLTAGPRALESPAYPALS</th>\n",
       "      <td>1</td>\n",
       "      <td>1</td>\n",
       "      <td>0</td>\n",
       "      <td>0</td>\n",
       "      <td>0</td>\n",
       "      <td>0</td>\n",
       "      <td>1</td>\n",
       "      <td>0</td>\n",
       "    </tr>\n",
       "    <tr>\n",
       "      <th>MGYIHTALKSAGFHHVIQVDTPALGLDSEGLRKLLADFEPDLVGVSTTTPGLPGAIEACEAAKSTGAKVILGGPHTEVYAHENLVHESIDYVGVGEGVTIMPELAEAMERGEEPEGIRGLVTRKHDGGAAPMVNLEEVGWPERAGLPMDRYYSIMAPRPFATMISSRGCPFKCSFCFKQAVDKKSMYRSPEDVVGEMTELKERWGVKEIMFYDDVFTLHRGRVREICGLIGETGLKVRWEAPTRVDLVPEPLLEAMAGAGCVRLRFGIEHGDSEILERMRKESDIQKIEKAVTSAHEAGIKGFGYFIVGWLGETREQFRRTVDLACRLPLDYASFYTATPLPGTPLHTESVAAGQIPPDYWDRFSCGASSTRGSGTWCRTRRSAPSGRTAPSSCAAPWSSRCCRTWR</th>\n",
       "      <td>0</td>\n",
       "      <td>0</td>\n",
       "      <td>1</td>\n",
       "      <td>0</td>\n",
       "      <td>0</td>\n",
       "      <td>0</td>\n",
       "      <td>0</td>\n",
       "      <td>0</td>\n",
       "    </tr>\n",
       "    <tr>\n",
       "      <th>MKVLSLHSAGHDTGVAYFEDGRLVFAVETERLTRVKHDHRSDVALRHVLEQECVDTDGIDLVAVSTPVRSGLLRIPDLDRAMERIGAGALHHRTVCEMLGRRVECVVVTHEVSHAALAAHYADWEEGTVVLVNEGRGQLTRSSLFRVTGGALEWVDKDPLPWYGNGFGWTAIGYLLGFGPSPSVAGKVMAMGGYGQPDPRIREQLLSVDPEVMNDRELAERVRADLAGRPEFAPGFETASQVVATFQEMFTEAVRAVLDRHVTRTDAGVGPIALGGGCALNIVANSALREEYGRDVAIPPACGDAGHLTGAGLYALAQVAGVKPEPFSVYRNGGGEARAAVLEAVEGAGLRAVPYDRSAVAGVLAGGGVVALTQGAAELGPRALGHRSLLGSPAVPGMRERMSEKLKRREWFRPLGAVMRDERFAGLYPGRAPSPYMLFEYRLPDGIAPEARHVNGTCRIQTLGPEEDRLYGLLAEFEELSGVPALINTSLNGPGKPIAHTARDVLDDFARTDVDLFVFDDLMVRGAAAR</th>\n",
       "      <td>0</td>\n",
       "      <td>0</td>\n",
       "      <td>1</td>\n",
       "      <td>0</td>\n",
       "      <td>1</td>\n",
       "      <td>0</td>\n",
       "      <td>0</td>\n",
       "      <td>0</td>\n",
       "    </tr>\n",
       "  </tbody>\n",
       "</table>\n",
       "</div>"
      ],
      "text/plain": [
       "                                                    ATP binding  \\\n",
       "MDFFVRLARETGDRKREFLELGRKAGRFPAASTSNGEISIWCSNDYL...            0   \n",
       "MLRGSARTYWTLTGLWVLLRAGTLVVGLLFQRLFDALGAGGGVWLII...            1   \n",
       "MRGERTAVALLALLVPAGMGLQLVAPYLLRGFIDGALSGDSRKTLLD...            1   \n",
       "MSSDTHGTDLADGDVLVTGAAGFIGSHLVTELRNSGRNVVAVDRRPL...            0   \n",
       "MCGFVGFSDAGAGQEDARVTAERMLAAVAHRGPDGSDWCHHRGVTLA...            1   \n",
       "MGYIHTALKSAGFHHVIQVDTPALGLDSEGLRKLLADFEPDLVGVST...            0   \n",
       "MKVLSLHSAGHDTGVAYFEDGRLVFAVETERLTRVKHDHRSDVALRH...            0   \n",
       "\n",
       "                                                    nucleotide binding  \\\n",
       "MDFFVRLARETGDRKREFLELGRKAGRFPAASTSNGEISIWCSNDYL...                   0   \n",
       "MLRGSARTYWTLTGLWVLLRAGTLVVGLLFQRLFDALGAGGGVWLII...                   1   \n",
       "MRGERTAVALLALLVPAGMGLQLVAPYLLRGFIDGALSGDSRKTLLD...                   1   \n",
       "MSSDTHGTDLADGDVLVTGAAGFIGSHLVTELRNSGRNVVAVDRRPL...                   0   \n",
       "MCGFVGFSDAGAGQEDARVTAERMLAAVAHRGPDGSDWCHHRGVTLA...                   1   \n",
       "MGYIHTALKSAGFHHVIQVDTPALGLDSEGLRKLLADFEPDLVGVST...                   0   \n",
       "MKVLSLHSAGHDTGVAYFEDGRLVFAVETERLTRVKHDHRSDVALRH...                   0   \n",
       "\n",
       "                                                    catalytic activity  \\\n",
       "MDFFVRLARETGDRKREFLELGRKAGRFPAASTSNGEISIWCSNDYL...                   1   \n",
       "MLRGSARTYWTLTGLWVLLRAGTLVVGLLFQRLFDALGAGGGVWLII...                   0   \n",
       "MRGERTAVALLALLVPAGMGLQLVAPYLLRGFIDGALSGDSRKTLLD...                   0   \n",
       "MSSDTHGTDLADGDVLVTGAAGFIGSHLVTELRNSGRNVVAVDRRPL...                   1   \n",
       "MCGFVGFSDAGAGQEDARVTAERMLAAVAHRGPDGSDWCHHRGVTLA...                   0   \n",
       "MGYIHTALKSAGFHHVIQVDTPALGLDSEGLRKLLADFEPDLVGVST...                   1   \n",
       "MKVLSLHSAGHDTGVAYFEDGRLVFAVETERLTRVKHDHRSDVALRH...                   1   \n",
       "\n",
       "                                                    ATPase-coupled transmembrane transporter activity  \\\n",
       "MDFFVRLARETGDRKREFLELGRKAGRFPAASTSNGEISIWCSNDYL...                                                  0   \n",
       "MLRGSARTYWTLTGLWVLLRAGTLVVGLLFQRLFDALGAGGGVWLII...                                                  1   \n",
       "MRGERTAVALLALLVPAGMGLQLVAPYLLRGFIDGALSGDSRKTLLD...                                                  1   \n",
       "MSSDTHGTDLADGDVLVTGAAGFIGSHLVTELRNSGRNVVAVDRRPL...                                                  0   \n",
       "MCGFVGFSDAGAGQEDARVTAERMLAAVAHRGPDGSDWCHHRGVTLA...                                                  0   \n",
       "MGYIHTALKSAGFHHVIQVDTPALGLDSEGLRKLLADFEPDLVGVST...                                                  0   \n",
       "MKVLSLHSAGHDTGVAYFEDGRLVFAVETERLTRVKHDHRSDVALRH...                                                  0   \n",
       "\n",
       "                                                    biosynthetic process  \\\n",
       "MDFFVRLARETGDRKREFLELGRKAGRFPAASTSNGEISIWCSNDYL...                     1   \n",
       "MLRGSARTYWTLTGLWVLLRAGTLVVGLLFQRLFDALGAGGGVWLII...                     0   \n",
       "MRGERTAVALLALLVPAGMGLQLVAPYLLRGFIDGALSGDSRKTLLD...                     0   \n",
       "MSSDTHGTDLADGDVLVTGAAGFIGSHLVTELRNSGRNVVAVDRRPL...                     0   \n",
       "MCGFVGFSDAGAGQEDARVTAERMLAAVAHRGPDGSDWCHHRGVTLA...                     0   \n",
       "MGYIHTALKSAGFHHVIQVDTPALGLDSEGLRKLLADFEPDLVGVST...                     0   \n",
       "MKVLSLHSAGHDTGVAYFEDGRLVFAVETERLTRVKHDHRSDVALRH...                     1   \n",
       "\n",
       "                                                    transmembrane transport  \\\n",
       "MDFFVRLARETGDRKREFLELGRKAGRFPAASTSNGEISIWCSNDYL...                        0   \n",
       "MLRGSARTYWTLTGLWVLLRAGTLVVGLLFQRLFDALGAGGGVWLII...                        1   \n",
       "MRGERTAVALLALLVPAGMGLQLVAPYLLRGFIDGALSGDSRKTLLD...                        1   \n",
       "MSSDTHGTDLADGDVLVTGAAGFIGSHLVTELRNSGRNVVAVDRRPL...                        0   \n",
       "MCGFVGFSDAGAGQEDARVTAERMLAAVAHRGPDGSDWCHHRGVTLA...                        0   \n",
       "MGYIHTALKSAGFHHVIQVDTPALGLDSEGLRKLLADFEPDLVGVST...                        0   \n",
       "MKVLSLHSAGHDTGVAYFEDGRLVFAVETERLTRVKHDHRSDVALRH...                        0   \n",
       "\n",
       "                                                    asparagine biosynthetic process  \\\n",
       "MDFFVRLARETGDRKREFLELGRKAGRFPAASTSNGEISIWCSNDYL...                                0   \n",
       "MLRGSARTYWTLTGLWVLLRAGTLVVGLLFQRLFDALGAGGGVWLII...                                0   \n",
       "MRGERTAVALLALLVPAGMGLQLVAPYLLRGFIDGALSGDSRKTLLD...                                0   \n",
       "MSSDTHGTDLADGDVLVTGAAGFIGSHLVTELRNSGRNVVAVDRRPL...                                0   \n",
       "MCGFVGFSDAGAGQEDARVTAERMLAAVAHRGPDGSDWCHHRGVTLA...                                1   \n",
       "MGYIHTALKSAGFHHVIQVDTPALGLDSEGLRKLLADFEPDLVGVST...                                0   \n",
       "MKVLSLHSAGHDTGVAYFEDGRLVFAVETERLTRVKHDHRSDVALRH...                                0   \n",
       "\n",
       "                                                    ATPase activity  \n",
       "MDFFVRLARETGDRKREFLELGRKAGRFPAASTSNGEISIWCSNDYL...                0  \n",
       "MLRGSARTYWTLTGLWVLLRAGTLVVGLLFQRLFDALGAGGGVWLII...                1  \n",
       "MRGERTAVALLALLVPAGMGLQLVAPYLLRGFIDGALSGDSRKTLLD...                1  \n",
       "MSSDTHGTDLADGDVLVTGAAGFIGSHLVTELRNSGRNVVAVDRRPL...                0  \n",
       "MCGFVGFSDAGAGQEDARVTAERMLAAVAHRGPDGSDWCHHRGVTLA...                0  \n",
       "MGYIHTALKSAGFHHVIQVDTPALGLDSEGLRKLLADFEPDLVGVST...                0  \n",
       "MKVLSLHSAGHDTGVAYFEDGRLVFAVETERLTRVKHDHRSDVALRH...                0  "
      ]
     },
     "execution_count": 60,
     "metadata": {},
     "output_type": "execute_result"
    }
   ],
   "source": [
    "one_hot"
   ]
  },
  {
   "cell_type": "code",
   "execution_count": null,
   "metadata": {},
   "outputs": [],
   "source": [
    "_."
   ]
  }
 ],
 "metadata": {
  "kernelspec": {
   "display_name": "Bio",
   "language": "python",
   "name": "bio"
  },
  "language_info": {
   "codemirror_mode": {
    "name": "ipython",
    "version": 3
   },
   "file_extension": ".py",
   "mimetype": "text/x-python",
   "name": "python",
   "nbconvert_exporter": "python",
   "pygments_lexer": "ipython3",
   "version": "3.8.1"
  },
  "widgets": {
   "application/vnd.jupyter.widget-state+json": {
    "state": {},
    "version_major": 2,
    "version_minor": 0
   }
  }
 },
 "nbformat": 4,
 "nbformat_minor": 4
}
